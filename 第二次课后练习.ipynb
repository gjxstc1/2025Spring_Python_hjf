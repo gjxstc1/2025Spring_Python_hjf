{
 "cells": [
  {
   "cell_type": "markdown",
   "metadata": {},
   "source": [
    "# 第二次课后练习\n",
    "\n",
    "<span style=\"color:black; font-weight:bold;\">请将作业文件命名为 第二次课后练习+姓名+学号.ipynb, 例如 第二次课后练习+张三+1000000000.ipynb</span>\n",
    "\n",
    "<span style=\"color:black; font-weight:bold;\">在作业过程中觉得有心得或者自己拓展学习到有价值内容的，可以在文件名最后加一个#号。例如第二次课后练习+张三+1000000000+#.ipynb</span>\n",
    "\n",
    "本次作业提交截止为周四晚。建议能完成的尽量提前提交以方便作业讲评。"
   ]
  },
  {
   "cell_type": "markdown",
   "metadata": {},
   "source": [
    "## 零、 阅读代码预测-观察执行结果"
   ]
  },
  {
   "cell_type": "code",
   "execution_count": 5,
   "metadata": {
    "scrolled": true
   },
   "outputs": [
    {
     "name": "stdout",
     "output_type": "stream",
     "text": [
      "2\n"
     ]
    },
    {
     "ename": "UnboundLocalError",
     "evalue": "local variable 'n' referenced before assignment",
     "output_type": "error",
     "traceback": [
      "\u001b[0;31m---------------------------------------------------------------------------\u001b[0m",
      "\u001b[0;31mUnboundLocalError\u001b[0m                         Traceback (most recent call last)",
      "Cell \u001b[0;32mIn[5], line 10\u001b[0m\n\u001b[1;32m      8\u001b[0m     \u001b[38;5;28mprint\u001b[39m(n)\n\u001b[1;32m      9\u001b[0m     n\u001b[38;5;241m+\u001b[39m\u001b[38;5;241m=\u001b[39m\u001b[38;5;241m1\u001b[39m\n\u001b[0;32m---> 10\u001b[0m \u001b[43mfunc2\u001b[49m\u001b[43m(\u001b[49m\u001b[43m)\u001b[49m\n",
      "Cell \u001b[0;32mIn[5], line 8\u001b[0m, in \u001b[0;36mfunc2\u001b[0;34m()\u001b[0m\n\u001b[1;32m      7\u001b[0m \u001b[38;5;28;01mdef\u001b[39;00m\u001b[38;5;250m \u001b[39m\u001b[38;5;21mfunc2\u001b[39m():\n\u001b[0;32m----> 8\u001b[0m     \u001b[38;5;28mprint\u001b[39m(\u001b[43mn\u001b[49m)\n\u001b[1;32m      9\u001b[0m     n\u001b[38;5;241m+\u001b[39m\u001b[38;5;241m=\u001b[39m\u001b[38;5;241m1\u001b[39m\n",
      "\u001b[0;31mUnboundLocalError\u001b[0m: local variable 'n' referenced before assignment"
     ]
    }
   ],
   "source": [
    "n = 2\n",
    "def func():\n",
    "    print(n)\n",
    "\n",
    "func()\n",
    "\n",
    "def func2():\n",
    "    print(n)\n",
    "    n+=1\n",
    "func2()"
   ]
  },
  {
   "cell_type": "markdown",
   "metadata": {},
   "source": [
    "在func2中，由于没有用global声明n，所以默认是在函数中定义的新的局部变量，但在func2函数内n没有初始化赋值，所以会报错误\n",
    "\n",
    "（改成n=1就不会报错，会认为是局部变量的赋值）"
   ]
  },
  {
   "cell_type": "code",
   "execution_count": null,
   "metadata": {},
   "outputs": [
    {
     "name": "stdout",
     "output_type": "stream",
     "text": [
      "not defined\n",
      "1Test\n",
      "2Test\n",
      "3Nonlocal\n",
      "4Global\n"
     ]
    }
   ],
   "source": [
    "#函数变量的作用域\n",
    "def scope_test():\n",
    "    def test_local():\n",
    "        spam=\"Local\" \n",
    "    def test_nonlocal():\n",
    "        nonlocal spam\n",
    "        spam=\"Nonlocal\"\n",
    "    def test_global():\n",
    "        global spam\n",
    "        spam=\"Global\"\n",
    "    spam=\"Test\"\n",
    "    test_local()\n",
    "    print(\"1\"+spam)\n",
    "    test_global()\n",
    "    print(\"2\"+spam)\n",
    "    test_nonlocal()\n",
    "    print(\"3\"+spam)\n",
    "\n",
    "\n",
    "try:\n",
    "    print(spam)\n",
    "except:\n",
    "    print(\"not defined\")\n",
    "scope_test()\n",
    "print(\"4\"+spam)"
   ]
  },
  {
   "cell_type": "markdown",
   "metadata": {},
   "source": [
    "spam初始时在全局未定义，所以not defined（没有调用scope_test）\n",
    "调用scope_test后，在这个闭包中spam定义为\"Test\"（局部变量）:\n",
    "\n",
    "1.执行test_local，test_local中的赋值是在这个最内层函数的局部变量，外层的spam变量不变\n",
    "\n",
    "2.执行test_global，test_global中的赋值由于全局没有spam变量，故这里初始化了spam变量并且修改为\"Global\"。但是返回外层函数后，输出行的spam默认从最近的开始逐渐向外找，故输出的仍是这个闭包内的spam而不是全局的spam。\n",
    "\n",
    "3.执行test_nonlocal，test_nonlocal中的赋值是修改外层函数的变量，故外层的spam改变\n",
    "\n",
    "4.回到全局的spam，在2.中初始化并修改了spam，根据此输出"
   ]
  },
  {
   "cell_type": "code",
   "execution_count": 2,
   "metadata": {},
   "outputs": [
    {
     "data": {
      "text/plain": [
       "[12321, 242]"
      ]
     },
     "execution_count": 2,
     "metadata": {},
     "output_type": "execute_result"
    }
   ],
   "source": [
    "def is_palme(n):\n",
    "    n=str(n)\n",
    "    m=n[::-1]\n",
    "    return n==m\n",
    "\n",
    "L = [12321,12343,213,242,433]\n",
    "\n",
    "list(filter(lambda s: is_palme(s), L))"
   ]
  },
  {
   "cell_type": "markdown",
   "metadata": {},
   "source": [
    "字符串反转等于自身 <==> 回文数"
   ]
  },
  {
   "cell_type": "code",
   "execution_count": null,
   "metadata": {},
   "outputs": [
    {
     "data": {
      "text/plain": [
       "[7, 8, 9, 10]"
      ]
     },
     "execution_count": 3,
     "metadata": {},
     "output_type": "execute_result"
    }
   ],
   "source": [
    "def filter_data(data, threshold):\n",
    "    for item in data:\n",
    "        if data.index(item) > threshold:\n",
    "            yield item\n",
    "\n",
    "data = [1, 2, 3, 4, 5, 6, 7, 8, 9, 10]\n",
    "\n",
    "filtered_data5 = filter_data(data, 5)\n",
    "\n",
    "lst = [x for x in  filtered_data5]\n",
    "lst"
   ]
  },
  {
   "cell_type": "markdown",
   "metadata": {},
   "source": [
    "把所有“这个数的数值第一次出现位置的下标>=6”的数取出来"
   ]
  },
  {
   "cell_type": "code",
   "execution_count": null,
   "metadata": {
    "scrolled": true
   },
   "outputs": [
    {
     "name": "stdout",
     "output_type": "stream",
     "text": [
      "1\n",
      "2\n",
      "3\n",
      "4\n",
      "5\n",
      "6\n",
      "7\n",
      "8\n",
      "9\n"
     ]
    }
   ],
   "source": [
    "def fla(lst):\n",
    "    for item in lst:\n",
    "        if isinstance(item, list):  # 如果当前元素仍然是列表，递归调用fla\n",
    "            yield from fla(item)\n",
    "        else:\n",
    "            yield item\n",
    "\n",
    "nes_list = [[[1, 2], [3, 4]], 5, [6, 7, [8, 9]]]\n",
    "\n",
    "for i in fla(nes_list):\n",
    "    print(i)"
   ]
  },
  {
   "cell_type": "markdown",
   "metadata": {},
   "source": [
    "有递归的生成器函数，递归地（即如果有列表嵌套，则递归进入直到为非列表对象）按原列表顺序生成列表拆散后的所有数"
   ]
  },
  {
   "cell_type": "markdown",
   "metadata": {},
   "source": [
    "reduce的作用是将一个序列的值合并成一个值，如`reduce(lambda x, y: x+y, [1, 2, 3, 4, 5])`等价于`((((1+2)+3)+4)+5)`\n"
   ]
  },
  {
   "cell_type": "code",
   "execution_count": 12,
   "metadata": {},
   "outputs": [
    {
     "name": "stdout",
     "output_type": "stream",
     "text": [
      "{'you': 2, 'are': 2, 'yes': 1, 'right': 1}\n"
     ]
    }
   ],
   "source": [
    "from functools import reduce\n",
    "\n",
    "text = \"\"\"You are right, yes you are right\"\"\"\n",
    "\n",
    "words = map(lambda s: s.lower(), filter(lambda s: s.isalpha(), text.split()))\n",
    "\n",
    "fre = reduce(lambda d, word: {**d, word: d.get(word, 0) + 1}, words, {})\n",
    "\n",
    "print(fre)"
   ]
  },
  {
   "cell_type": "markdown",
   "metadata": {},
   "source": [
    "s.isalpha():判断s是否是英文字母（故排除right，），故第三行后words是迭代器：（you are yes you are right）\n",
    "\n",
    "第四行按顺序做，**d表示这个字典，后面是d中按顺序到目前为止出现word的次数（未出现则为默认值0），相当于是增加键值对或更新键值对（因为每个键对应一个值），故为统计单词在这个迭代器中出现次数\n",
    "\n",
    "第四行最后的{}表示字典初始值"
   ]
  },
  {
   "cell_type": "code",
   "execution_count": null,
   "metadata": {},
   "outputs": [
    {
     "data": {
      "text/plain": [
       "8"
      ]
     },
     "execution_count": 13,
     "metadata": {},
     "output_type": "execute_result"
    }
   ],
   "source": [
    "# 实现函数组合器 # 考试不会考函数组合器\n",
    "\n",
    "def compose(*funcs):\n",
    "    return reduce(lambda f,g: lambda x: f(g(x)), funcs)\n",
    "\n",
    "add1 = lambda x: x+1\n",
    "mul2 = lambda x: x*2\n",
    "\n",
    "compose(mul2, add1)(3)"
   ]
  },
  {
   "cell_type": "markdown",
   "metadata": {},
   "source": [
    "*func传可变数量的对象；reduce按顺序做，mul2(add1(3))=8"
   ]
  },
  {
   "cell_type": "code",
   "execution_count": null,
   "metadata": {},
   "outputs": [
    {
     "name": "stdout",
     "output_type": "stream",
     "text": [
      "[12, 12, 12]\n"
     ]
    }
   ],
   "source": [
    "funcs = [lambda x: x+i for i in range(3)]\n",
    "print([f(10) for f in funcs])"
   ]
  },
  {
   "cell_type": "markdown",
   "metadata": {},
   "source": [
    "#### <mark> 列表推导式中的 lambda 函数捕获了循环变量i的引用（而不是值），但由于 Python 的后期绑定行为，所有生成的 lambda 函数在被调用时都会使用循环结束后的 i 值。<mark>\n",
    "\n",
    "#### <mark> Python 的后期绑定指函数或闭包在其被调用时才确定它引用的变量值，而不是在定义时就确定。这种行为特别容易在使用循环和闭包时出现，因为闭包会捕获变量的引用，而不是变量的当前值。 <mark>\n",
    "\n",
    "故最终i=2，所有lambda x 引用同一个i，当函数被调用时循环已经结束。故func = [lambda x: x + 2 for i in range(3)]\n",
    "\n",
    "f遍历funcs，计算函数值10 + 2，故为10+2，10+2，10+2组成的列表\n",
    "\n",
    "------\n",
    "\n",
    "修改方式：将变量用默认参数给函数。\n",
    "```python\n",
    "funcs = [lambda x, i=i: x + i for i in range(3)]\n",
    "print([f(10) for f in funcs])\n",
    "```"
   ]
  },
  {
   "cell_type": "code",
   "execution_count": 15,
   "metadata": {},
   "outputs": [
    {
     "name": "stdout",
     "output_type": "stream",
     "text": [
      "Counter1: 15 15\n",
      "Counter2: 1 1\n",
      "After reset: 0 1\n"
     ]
    }
   ],
   "source": [
    "def counter_factory(initial=0):\n",
    "    count = initial  # 闭包变量存储状态\n",
    "    def increment(step=1):\n",
    "        nonlocal count\n",
    "        count += step\n",
    "        return count\n",
    "    def reset():\n",
    "        nonlocal count\n",
    "        count = 0\n",
    "        return count\n",
    "    def get():\n",
    "        return count\n",
    "    return {'increment': increment, 'reset': reset, 'get': get}\n",
    "\n",
    "counter1 = counter_factory(10)\n",
    "counter2 = counter_factory()\n",
    "\n",
    "print(\"Counter1:\", counter1['increment'](5), counter1['get']())  \n",
    "print(\"Counter2:\", counter2['increment'](), counter2['get']())   \n",
    "counter1['reset']()\n",
    "print(\"After reset:\", counter1['get'](), counter2['get']())      "
   ]
  },
  {
   "cell_type": "markdown",
   "metadata": {},
   "source": [
    "传入参数都是不可变对象，不会出现交叉。\n",
    "\n",
    "counter1中，初始count=10，先调用字典中‘increment’对应的函数，外层局部变量count会修改（增加传入参数5），变成15，然后再get是修改后的count=15，然后reset同样nonlocal后会修改count变成0，最后get就得到0\n",
    "\n",
    "counter2中，初始count=默认参数0，然后increment会让count增加默认参数1，之后仿上count变成1并输出"
   ]
  },
  {
   "cell_type": "markdown",
   "metadata": {
    "vscode": {
     "languageId": "plaintext"
    }
   },
   "source": [
    "## 一、 函数基础练习-补充代码完善流程"
   ]
  },
  {
   "cell_type": "markdown",
   "metadata": {},
   "source": [
    "### 1. 二分查找 代码填空\n",
    "\n",
    "设计一个函数，实现二分查找 输入是一个升序的整数列表 和 一个数，返回这个数列表中的下标，没有查到打印 NA "
   ]
  },
  {
   "cell_type": "code",
   "execution_count": 6,
   "metadata": {},
   "outputs": [],
   "source": [
    "# 返回 x 在 arr 中的索引，如果不存在返回 -1\n",
    "def binarySearch (arr, l, r, x): \n",
    "  \n",
    "    # 基本判断\n",
    "    if r >= l: \n",
    "  \n",
    "        mid = (l + r) >> 1                 # 填空：找到中点下标\n",
    "  \n",
    "        # 元素整好的中间位置\n",
    "        if arr[mid] == x: \n",
    "            return mid \n",
    "          \n",
    "        # 元素小于中间位置的元素，只需要再比较左边的元素\n",
    "        elif arr[mid] > x: \n",
    "            return binarySearch(arr, l, mid, x)              #  填空：递归向左半边 \n",
    "  \n",
    "        # 元素大于中间位置的元素，只需要再比较右边的元素\n",
    "        else: \n",
    "            return binarySearch(arr, mid + 1, r, x)             #填空：递归向右半边 \n",
    "  \n",
    "    else: \n",
    "        # 不存在\n",
    "        print('NA')\n",
    "        return -1\n",
    "\n",
    "# 测试数组\n",
    "arr = [ 2, 3, 4, 10, 40 ] \n",
    "x = 10\n",
    "  \n",
    "# 函数调用\n",
    "result = binarySearch(arr, 0, len(arr)-1, x) \n",
    "assert result == 3"
   ]
  },
  {
   "cell_type": "markdown",
   "metadata": {},
   "source": [
    "### 2. 实现数字列表的归并排序 补充代码块\n",
    "\n",
    "例如：\n",
    "输入：[12,3,4,6,7,1,8,5]\n",
    "输出：[1,3,4,5,6,7,8,12]"
   ]
  },
  {
   "cell_type": "code",
   "execution_count": 7,
   "metadata": {},
   "outputs": [],
   "source": [
    "def mergesort(seq):\n",
    "    \"\"\"归并排序\"\"\"\n",
    "    if len(seq) <= 1:\n",
    "        return seq\n",
    "    mid = len(seq) // 2  # 将列表分成更小的两个列表\n",
    "    # 分别对左右两个列表进行处理，分别返回两个排序好的列表\n",
    "    left = mergesort(seq[:mid])\n",
    "    right = mergesort(seq[mid:])\n",
    "    # 对排序好的两个列表合并，产生一个新的排序好的列表\n",
    "    return merge(left, right)\n",
    "\n",
    "def merge(left, right):\n",
    "    \"\"\"合并两个已排序好的列表，产生一个新的已排序好的列表\"\"\"\n",
    "    result = []  # 新的已排序好的列表\n",
    "    i = 0  # 下标\n",
    "    j = 0\n",
    "    \n",
    "    # 对两个列表中的元素 两两对比。\n",
    "    # 将最小的元素，放到result中，并对当前列表下标加1\n",
    "    while i < len(left) and j < len(right):\n",
    "     # 补充该循环体代码，实现功能要求 todo：   \n",
    "        if left[i] < right[j]:\n",
    "            result += [left[i]]\n",
    "            i += 1\n",
    "        else:\n",
    "            result += [right[j]]\n",
    "            j += 1\n",
    "\n",
    "    result += left[i:]  # <-list的加法即合并\n",
    "    result += right[j:] \n",
    "    return result\n",
    "\n",
    "seq = [12,3,4,6,7,1,8,5]\n",
    "result = mergesort(seq)\n",
    "assert result ==  [1, 3, 4, 5, 6, 7, 8, 12]"
   ]
  },
  {
   "cell_type": "markdown",
   "metadata": {},
   "source": [
    "### 3.生成器实现两个序列的交错输出 补充实现函数体\n",
    "    编写一个生成器函数，接受两个序列作为参数，并生成一个新序列，该序列交错包含原来两个序列的元素。例如，给定序列`[1, 3, 5]`和`[2, 4, 6]`，生成的序列应该是`[1, 2, 3, 4, 5, 6]`。（最好不要使用`zip`函数）"
   ]
  },
  {
   "cell_type": "code",
   "execution_count": 8,
   "metadata": {},
   "outputs": [],
   "source": [
    "def interleave(seq1, seq2):\n",
    "    pass             # todo\n",
    "    i = 0\n",
    "    while i < len(seq1) and i < len(seq2):\n",
    "        yield seq1[i]\n",
    "        yield seq2[i]\n",
    "        i += 1\n",
    "\n",
    "\n",
    "assert list(interleave([1, 2, 3], [4, 5, 6,7 ])) == [1, 4, 2, 5, 3, 6]"
   ]
  },
  {
   "cell_type": "markdown",
   "metadata": {},
   "source": [
    "### 4.使用装饰器计算函数运行的时间并输出，格式如下；\n",
    "\n",
    "    如调用func(1,2,3)时，输出func(1,2,3):[0.06199502944946289]s;\n",
    "\n",
    "    如调用func(1,[1,2],{1:[1,2,3]})时，输出func(1,[1, 2],{1: [1, 2, 3]}):[0.06698012351989746]s\n",
    "\n",
    "提示：参数的字符化只考虑简单数据类型和包含简单数据类型的容器，并且只考虑参数*args，可以用map(str,args)转换为字符串。有基础的可以考虑试下**kwargs。\n",
    "\n",
    "打印函数的名字可以使用func.__name__，获取当前时间可以使用time包"
   ]
  },
  {
   "cell_type": "code",
   "execution_count": 9,
   "metadata": {},
   "outputs": [
    {
     "name": "stdout",
     "output_type": "stream",
     "text": [
      "time_cosume(1, 2, 3, 4, [1, 2, 3, 4]):[0.014480829238891602]s\n"
     ]
    }
   ],
   "source": [
    "import time\n",
    "def log_time(func):\n",
    "    def inner(*args):\n",
    "        pass\n",
    "        start = time.time()\n",
    "        func(*args)\n",
    "        end = time.time()\n",
    "        print(f\"{func.__name__}{args}:[{end - start}]s\")\n",
    "    return inner\n",
    "\n",
    "@log_time\n",
    "def time_cosume(*args):\n",
    "    return sum(range(1,1000000))\n",
    "\n",
    "time_cosume(1,2,3,4,[1,2,3,4])\n",
    "# time_cosume(1,2,3,4,[1,2,3,4],{1:[1,2]})"
   ]
  }
 ],
 "metadata": {
  "kernelspec": {
   "display_name": "Python 3",
   "language": "python",
   "name": "python3"
  },
  "language_info": {
   "codemirror_mode": {
    "name": "ipython",
    "version": 3
   },
   "file_extension": ".py",
   "mimetype": "text/x-python",
   "name": "python",
   "nbconvert_exporter": "python",
   "pygments_lexer": "ipython3",
   "version": "3.9.6"
  }
 },
 "nbformat": 4,
 "nbformat_minor": 4
}
