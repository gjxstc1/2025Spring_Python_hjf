{
 "cells": [
  {
   "cell_type": "markdown",
   "metadata": {},
   "source": [
    "# 第四次课后练习"
   ]
  },
  {
   "cell_type": "markdown",
   "metadata": {},
   "source": [
    "**负责助教：王瑞环**\n",
    "\n",
    "<span style=\"color:red; font-weight:bold;\">请将作业文件命名为 第四次课后练习+姓名+学号.ipynb, 例如 第四次课后练习+张三+1000000000.ipynb</span>\n",
    "\n",
    "<span style=\"color:red; font-weight:bold;\">在作业过程中觉得有心得或者自己拓展学习到有价值内容的，可以在文件名最后加一个#号。例如第四次课后练习+张三+1000000000+#.ipynb</span>\n",
    "\n",
    "<span style=\"color:red; font-weight:bold;\">本次课同时发布课后练习和选做题，提交时请注意区分提交通道</span>"
   ]
  },
  {
   "cell_type": "markdown",
   "metadata": {},
   "source": [
    "# 第零部分 代码理解\n",
    "\n",
    "请认真阅读代码，理解代码的功能，先写出预想的结果。运行并检验结果是否如预期。如果不如预期，请分析理解其中的原因"
   ]
  },
  {
   "cell_type": "markdown",
   "metadata": {},
   "source": [
    "## **0.1** 类变量与实例变量"
   ]
  },
  {
   "cell_type": "code",
   "execution_count": 3,
   "metadata": {},
   "outputs": [
    {
     "name": "stdout",
     "output_type": "stream",
     "text": [
      "True\n",
      "True\n",
      "default\n"
     ]
    }
   ],
   "source": [
    "class Config:\n",
    "    data = {}\n",
    "    \n",
    "    def __init__(self, name):\n",
    "        self.name = name\n",
    "        self.data['key'] = 'default'\n",
    "\n",
    "a = Config('a')\n",
    "b = Config('b')\n",
    "print(a.data is b.data)  \n",
    "print(a.__class__.data is Config.data) \n",
    "a.data = {'key': 'custom'}\n",
    "#a.data['key'] = 'custom'\n",
    "print(b.data['key'])"
   ]
  },
  {
   "cell_type": "markdown",
   "metadata": {},
   "source": [
    "True\n",
    "\n",
    "True\n",
    "\n",
    "default\n",
    "\n",
    "按照：实例 -> 类 -> 父类的顺序查找attr\n",
    "\n",
    "前两个是因为类属性共享。a.__class__指向的就是Config类。第三个是在实例a中创建了新的实例属性字典data（因为这是赋值操作而非内容的改变），不影响类属性的data。\n",
    "\n",
    "如果改成a.data['key'] = 'custom'，那么b.data就会修改。（因为这是修改字典的内容而不是赋值，就不会创建实例变量）"
   ]
  },
  {
   "cell_type": "markdown",
   "metadata": {},
   "source": [
    "## **0.2** 单例模式"
   ]
  },
  {
   "cell_type": "code",
   "execution_count": 31,
   "metadata": {},
   "outputs": [
    {
     "name": "stdout",
     "output_type": "stream",
     "text": [
      "200\n",
      "200\n",
      "100\n"
     ]
    }
   ],
   "source": [
    "class Singleton1:\n",
    "    _instance = None\n",
    "    def __new__(cls):\n",
    "        if cls._instance is None:\n",
    "            cls._instance = super().__new__(cls)\n",
    "            cls.value = 100\n",
    "        return cls._instance\n",
    "\n",
    "a = Singleton1()\n",
    "a.value = 200\n",
    "b = Singleton1()\n",
    "print(a.value) \n",
    "print(b.value) \n",
    "print(Singleton1.value)   "
   ]
  },
  {
   "cell_type": "markdown",
   "metadata": {},
   "source": [
    "200\n",
    "\n",
    "200\n",
    "\n",
    "100\n",
    "\n",
    "__new__中可看出是单例模式。类变量 _instance <mark>存储唯一实例</mark>，所有<mark>实例</mark>都共享它。\n",
    "\n",
    "创建a实例后，cls.value = 100(类属性)，Singleton1._instance不是None了；然后赋值a.value,相当于创建新的a实例属性value，不影响类属性Singleton1.value（仍是100）；再创建b实例，因为Singleton1._instance不是None，所以b直接指向这个_instance，即b指向a所指的同一个实例，b和a共享同一个实例（故也拥有实例属性value=200），因此b.value=a.value=200"
   ]
  },
  {
   "cell_type": "code",
   "execution_count": null,
   "metadata": {},
   "outputs": [
    {
     "name": "stdout",
     "output_type": "stream",
     "text": [
      "200\n",
      "200\n",
      "100\n"
     ]
    }
   ],
   "source": [
    "class Singleton2:\n",
    "    _instance = None\n",
    "    def __new__(cls):\n",
    "        if cls._instance is None:\n",
    "            cls._instance = super().__new__(cls)\n",
    "        cls.value = 100\n",
    "        return cls._instance\n",
    "\n",
    "a = Singleton2()\n",
    "a.value = 200\n",
    "b = Singleton2()\n",
    "print(a.value)\n",
    "print(b.value)\n",
    "print(Singleton2.value) "
   ]
  },
  {
   "cell_type": "markdown",
   "metadata": {},
   "source": [
    "200\n",
    "\n",
    "200\n",
    "\n",
    "100\n",
    "\n",
    "几乎同上，只是每次创建实例时都会将类属性Singleton2.value赋值成100（并非实例属性），但是b与a是同一个实例（单例模式）。所以b.value(实例属性)=a.value(实例属性)=200"
   ]
  },
  {
   "cell_type": "code",
   "execution_count": 33,
   "metadata": {},
   "outputs": [
    {
     "name": "stdout",
     "output_type": "stream",
     "text": [
      "100\n",
      "100\n"
     ]
    },
    {
     "ename": "AttributeError",
     "evalue": "type object 'Singleton3' has no attribute 'value'",
     "output_type": "error",
     "traceback": [
      "\u001b[0;31m---------------------------------------------------------------------------\u001b[0m",
      "\u001b[0;31mAttributeError\u001b[0m                            Traceback (most recent call last)",
      "Cell \u001b[0;32mIn[33], line 14\u001b[0m\n\u001b[1;32m     12\u001b[0m \u001b[38;5;28mprint\u001b[39m(a\u001b[38;5;241m.\u001b[39mvalue)\n\u001b[1;32m     13\u001b[0m \u001b[38;5;28mprint\u001b[39m(b\u001b[38;5;241m.\u001b[39mvalue)\n\u001b[0;32m---> 14\u001b[0m \u001b[38;5;28mprint\u001b[39m(\u001b[43mSingleton3\u001b[49m\u001b[38;5;241;43m.\u001b[39;49m\u001b[43mvalue\u001b[49m) \n",
      "\u001b[0;31mAttributeError\u001b[0m: type object 'Singleton3' has no attribute 'value'"
     ]
    }
   ],
   "source": [
    "class Singleton3:\n",
    "    _instance = None\n",
    "    def __new__(cls):\n",
    "        if cls._instance is None:\n",
    "            cls._instance = super().__new__(cls)\n",
    "        cls._instance.value = 100  \n",
    "        return cls._instance\n",
    "\n",
    "a = Singleton3()\n",
    "a.value = 200\n",
    "b = Singleton3()\n",
    "print(a.value)\n",
    "print(b.value)\n",
    "print(Singleton3.value) "
   ]
  },
  {
   "cell_type": "markdown",
   "metadata": {},
   "source": [
    "100\n",
    "\n",
    "100\n",
    "\n",
    "Error\n",
    "\n",
    "多加的这一行\n",
    "```python \n",
    "cls._instance.value = 100  \n",
    "```\n",
    "导致创建实例时都会将实例属性修改为100。因此顺序为：先创建实例a，实例属性a.value = 100,然后是修改实例属性为a.value=200,然后创建实例b，因为cls._instance != None (实际等于实例a)，所以只执行修改实例属性a.value=100并将实例a返回给b，因此b.value = a.value = 100.由于从来没有定义类属性Singleton3.value所以报错。"
   ]
  },
  {
   "cell_type": "markdown",
   "metadata": {},
   "source": [
    "## **0.3** 函数闭包与工厂函数"
   ]
  },
  {
   "cell_type": "code",
   "execution_count": 4,
   "metadata": {},
   "outputs": [
    {
     "name": "stdout",
     "output_type": "stream",
     "text": [
      "[2, 2, 2]\n"
     ]
    }
   ],
   "source": [
    "functions = []\n",
    "for i in range(3):\n",
    "    def func():\n",
    "        return i\n",
    "    functions.append(func)\n",
    "\n",
    "# 如果这里写： i = 6， 那么输出结果是：[6, 6, 6]\n",
    "\n",
    "print([f() for f in functions])"
   ]
  },
  {
   "cell_type": "markdown",
   "metadata": {},
   "source": [
    "[2, 2, 2]\n",
    "\n",
    "函数闭包：内部函数引用外部变量，而不是拷贝外部变量，所以return i 是返回外部这个i的引用。\n",
    "\n",
    "#### <mark> Python 的后期绑定指函数或闭包在其被调用时才确定它引用的变量值，而不是在定义时就确定。这种行为特别容易在使用循环和闭包时出现，因为闭包会捕获变量的引用，而不是变量的当前值。 </mark>\n",
    "#### <mark> Python 使用后期绑定来处理函数内部对外部变量（如循环变量、函数参数等）的引用。当定义函数时，它并没有立刻决定这些外部变量的具体值，而是等到函数调用时才决定。</mark>\n",
    "每次循环中都会定义函数 func()。每次定义 func() 时，它会闭包（closure）捕获变量 i，但是由于 Python 的延迟绑定行为，这个闭包并不会在定义时捕获 i 的值，而是等到函数被调用时再去查找i的值。每次循环时，都会将func() 函数添加到 functions中。然而，因为 func() 是引用了变量 i，它并没有捕获 i 在定义时的值，而是始终引用 i，直到调用时获取i的值。故最后在调用函数时，所有的函数都会引用 i。但到此时 i = 2 了。\n",
    "\n",
    "修改方式：第三行改为：\n",
    "```python\n",
    "def func(i=i):\n",
    "```\n",
    "这样传入默认参数使得函数在定义时捕获i的当前值。"
   ]
  },
  {
   "cell_type": "code",
   "execution_count": null,
   "metadata": {},
   "outputs": [],
   "source": [
    "functions = []\n",
    "for i in range(3):\n",
    "    def factory(i): \n",
    "        def func():\n",
    "            return i \n",
    "        return func\n",
    "    functions.append(factory(i)) \n",
    "\n",
    "print([f() for f in functions]) "
   ]
  },
  {
   "cell_type": "markdown",
   "metadata": {},
   "source": [
    "[0, 1, 2]\n",
    "\n",
    "工厂函数，传参时传入了当时外部i的值。\n",
    "\n",
    "这里就在循环中捕获了i的值，在循环中调用factory(i)。故函数闭包可以捕获当前i的值，每个func捕获了不同的i，故输出为[0,1,2]"
   ]
  },
  {
   "cell_type": "markdown",
   "metadata": {},
   "source": [
    "## **0.4** 多进程编程"
   ]
  },
  {
   "cell_type": "markdown",
   "metadata": {},
   "source": [
    "由于 Jupyter Notebook 无法直接运行多进程程序，我们采用一种迂回的方法：使用`%%writefile`将要运行的程序写入到一个`.py`文件中，再获取运行该文件所得到的结果"
   ]
  },
  {
   "cell_type": "markdown",
   "metadata": {},
   "source": [
    "需要判断\n",
    "- 输出是否稳定（即多次运行是否能保证输出结果一致）\n",
    "  - 如果稳定，预测输出结果\n",
    "  - 如果不稳定，预测所有输出结果的可能情况\n",
    "- 代码大致的运行时间"
   ]
  },
  {
   "cell_type": "code",
   "execution_count": null,
   "metadata": {},
   "outputs": [],
   "source": [
    "%%writefile multiprocessing_script.py\n",
    "from multiprocessing import Pool\n",
    "import time\n",
    "import random\n",
    "\n",
    "def square(x):\n",
    "    time.sleep(1)\n",
    "    return x*x\n",
    "\n",
    "if __name__ == \"__main__\":\n",
    "    \n",
    "    with Pool(5) as p:\n",
    "        start_time = time.time()\n",
    "        result = p.map(square, range(20))\n",
    "        print(\"Result:\", result)\n",
    "        end_time = time.time()\n",
    "    print(f\"All done, time taken: {end_time - start_time:.2f}\")"
   ]
  },
  {
   "cell_type": "code",
   "execution_count": null,
   "metadata": {},
   "outputs": [],
   "source": [
    "import subprocess\n",
    "result = subprocess.run(\n",
    "    [\"python\", \"multiprocessing_script.py\"], \n",
    "    capture_output=True, text=True)\n",
    "print(result.stdout)"
   ]
  },
  {
   "cell_type": "markdown",
   "metadata": {},
   "source": [
    "Result: [0, 1, 4, 9, 16, 25, 36, 49, 64, 81, 100, 121, 144, 169, 196, 225, 256, 289, 324, 361]\n",
    "\n",
    "All done, time taken: 4s (约)\n",
    "\n",
    "进程池中只有5个进程，故每次同时进行5个任务。共20个任务，每个都约为1s，故约20/5=4s完成。结果是稳定的，因为map会等待所有任务完成并按顺序收集结果。（解释：<mark>map() 的实现方式使用了一个阻塞机制，确保只有当所有的任务都完成时，它才会将结果返回给用户。而且，无论任务在执行过程中是先完成还是后完成，map() 会根据任务的原始输入顺序来组织结果。</mark>）"
   ]
  },
  {
   "cell_type": "markdown",
   "metadata": {},
   "source": [
    "## **0.5** 生成器函数与 send() 操作"
   ]
  },
  {
   "cell_type": "markdown",
   "metadata": {},
   "source": [
    "生成器函数（Generator Function）是一种通过 yield 语句逐步生成值的特殊函数。与普通函数不同，生成器函数通过 yield 暂停执行，保存当前状态，允许后续恢复执行。send() 是生成器的一个方法，用于向生成器内部传递数据，实现对生成器函数发送信息与控制。\n",
    "\n",
    "示例：动态调整步长的计数器"
   ]
  },
  {
   "cell_type": "code",
   "execution_count": 3,
   "metadata": {
    "ExecuteTime": {
     "end_time": "2025-03-06T13:51:58.305336Z",
     "start_time": "2025-03-06T13:51:58.301121Z"
    }
   },
   "outputs": [],
   "source": [
    "def dynamic_counter(start=0):\n",
    "    current = start\n",
    "    step = 1\n",
    "    while True:\n",
    "        # 通过yield返回当前值，并接收外部send的step值\n",
    "        new_step = yield current\n",
    "        if new_step is not None:  # 如果接收到新step，更新\n",
    "            step = new_step\n",
    "        current += step"
   ]
  },
  {
   "cell_type": "code",
   "execution_count": null,
   "metadata": {
    "ExecuteTime": {
     "end_time": "2025-03-06T13:51:59.767188Z",
     "start_time": "2025-03-06T13:51:59.764879Z"
    }
   },
   "outputs": [
    {
     "name": "stdout",
     "output_type": "stream",
     "text": [
      "5\n",
      "8\n",
      "11\n",
      "12\n"
     ]
    }
   ],
   "source": [
    "# 初始化生成器\n",
    "counter = dynamic_counter(5)\n",
    "\n",
    "# 启动生成器，获取初始值\n",
    "print(next(counter))  \n",
    "\n",
    "# 发送步长3，并获取下一个值\n",
    "print(counter.send(3))  \n",
    "\n",
    "# 继续迭代，使用当前步长3\n",
    "print(next(counter))    \n",
    "\n",
    "# 发送步长1，并获取下一个值\n",
    "print(counter.send(1)) "
   ]
  },
  {
   "cell_type": "markdown",
   "metadata": {},
   "source": [
    "5\n",
    "\n",
    "8\n",
    "\n",
    "11\n",
    "\n",
    "12\n",
    "\n",
    "```python\n",
    "# 启动生成器，获取初始值\n",
    "print(next(counter)) \n",
    "```\n",
    "上面这行可以改为下面这行：\n",
    "```python\n",
    "print(counter.send(None)) \n",
    "```\n",
    "------\n",
    "\n",
    "```python\n",
    "new_step = yield current\n",
    "```\n",
    "这行作用是如果运行到此处的yield，先返回此时的current值，然后立刻等待send给new_step赋值并跳到下一次yield，进而会再返回新的current并等待更下一次的send（如果没有send直接用next跳过，那么相当于send了None）。因此刚开始要先启动生成器，即先运行到第一次yield，已经先返回此时的current = 5，然后才能等待send（直接send会报错，因为send只能在yield处使用）\n",
    "\n",
    "第一次send了3，此时step改成3，current=5+3=8，到while的第二轮，先返回此时current=8，然后等待send\n",
    "\n",
    "然后直接next，相当于send了None并跳到下一次yield，故step还是3，current=8+3=11，到while的第三轮，先返回此时current=11，然后等待send\n",
    "\n",
    "最后send了1，此时step改成1，current=11+1=12，到while的第四轮，先返回此时current=12，然后等待send"
   ]
  },
  {
   "cell_type": "markdown",
   "metadata": {},
   "source": [
    "## **0.6** `yield`递归生成器"
   ]
  },
  {
   "cell_type": "code",
   "execution_count": 3,
   "metadata": {
    "ExecuteTime": {
     "end_time": "2025-03-06T13:52:05.285173Z",
     "start_time": "2025-03-06T13:52:05.282334Z"
    }
   },
   "outputs": [],
   "source": [
    "from collections.abc import Iterable\n",
    "nested = [[[1], 2], 3, 4, [5, [[6, 7]]]]"
   ]
  },
  {
   "cell_type": "code",
   "execution_count": 4,
   "metadata": {
    "ExecuteTime": {
     "end_time": "2025-03-06T13:52:06.554470Z",
     "start_time": "2025-03-06T13:52:06.551460Z"
    }
   },
   "outputs": [
    {
     "name": "stdout",
     "output_type": "stream",
     "text": [
      "1\n",
      "2\n",
      "3\n",
      "4\n",
      "5\n",
      "6\n",
      "7\n"
     ]
    }
   ],
   "source": [
    "def flatten1(nested):\n",
    "    for item in nested:\n",
    "        if isinstance(item, Iterable) and not isinstance(item, (str, bytes)): \n",
    "            for subitem in flatten1(item):\n",
    "                yield subitem\n",
    "        else:\n",
    "            yield item\n",
    "\n",
    "for i in flatten1(nested):\n",
    "    print(i)"
   ]
  },
  {
   "cell_type": "markdown",
   "metadata": {},
   "source": [
    "1 \n",
    "\n",
    "2 \n",
    "\n",
    "3 \n",
    "\n",
    "4 \n",
    "\n",
    "5 \n",
    "\n",
    "6 \n",
    "\n",
    "7\n",
    "\n",
    "isinstance作用：某个变量是否为后面这些类之一的实例 ； 这里bytes是不可变的二进制数据类型，表示原始的二进制数据。\n",
    "\n",
    "这里是递归的生成这个可迭代对象的所有数（因为这个list全是整型）：如果为不可迭代对象则直接生成，如果是可迭代对象（并且不能是字符串和bytes），那么递归下去，迭代这个对象，对子对象接着做，直到最后一层全是不可迭代对象。故输出为按列表内部按前序顺序生成。"
   ]
  },
  {
   "cell_type": "code",
   "execution_count": 5,
   "metadata": {
    "ExecuteTime": {
     "end_time": "2025-03-06T13:52:39.082590Z",
     "start_time": "2025-03-06T13:52:39.079588Z"
    }
   },
   "outputs": [
    {
     "name": "stdout",
     "output_type": "stream",
     "text": [
      "1\n",
      "2\n",
      "3\n",
      "4\n",
      "5\n",
      "6\n",
      "7\n"
     ]
    }
   ],
   "source": [
    "def flatten2(nested):\n",
    "    for item in nested:\n",
    "        if isinstance(item, Iterable) and not isinstance(item, (str, bytes)):\n",
    "            yield from flatten2(item)\n",
    "        else:\n",
    "            yield item\n",
    "\n",
    "for i in flatten2(nested):\n",
    "    print(i)"
   ]
  },
  {
   "cell_type": "markdown",
   "metadata": {},
   "source": [
    "1\n",
    "\n",
    "2\n",
    "\n",
    "3\n",
    "\n",
    "4\n",
    "\n",
    "5\n",
    "\n",
    "6\n",
    "\n",
    "7\n",
    "\n",
    "yield from 作用：委托给子迭代器。因此仿上这是递归的生成这个list的所有数（因为这个list全是整型）：如果为不可迭代对象则直接生成，如果是可迭代对象（并且不能是字符串和bytes），那么递归下去，迭代这个对象，对子对象接着调用生成器作为大生成器的结果，直到最后一层全是不可迭代对象。故输出为按列表内部按前序顺序生成。"
   ]
  },
  {
   "cell_type": "code",
   "execution_count": 6,
   "metadata": {
    "ExecuteTime": {
     "end_time": "2025-03-06T13:55:15.099902Z",
     "start_time": "2025-03-06T13:55:15.096976Z"
    }
   },
   "outputs": [
    {
     "name": "stdout",
     "output_type": "stream",
     "text": [
      "3\n",
      "4\n"
     ]
    }
   ],
   "source": [
    "def flatten3(nested):\n",
    "    for item in nested:\n",
    "        if isinstance(item, Iterable) and not isinstance(item, (str, bytes)):\n",
    "            flatten3(item)\n",
    "        else:\n",
    "            yield item\n",
    "\n",
    "for i in flatten3(nested):\n",
    "    print(i)"
   ]
  },
  {
   "cell_type": "markdown",
   "metadata": {},
   "source": [
    "3\n",
    "\n",
    "4\n",
    "\n",
    "这里$flatten3(item)$并没有赋值给某个生成器，也没有yield from，故不造成任何生成(yield!=return)。因此所有生成都产生自不可迭代对象，即第一层不是list的那些：3，4."
   ]
  },
  {
   "cell_type": "code",
   "execution_count": 7,
   "metadata": {
    "ExecuteTime": {
     "end_time": "2025-03-06T13:56:59.811017Z",
     "start_time": "2025-03-06T13:56:59.807511Z"
    }
   },
   "outputs": [
    {
     "name": "stdout",
     "output_type": "stream",
     "text": [
      "<generator object flatten4 at 0x10533f970>\n",
      "3\n",
      "4\n",
      "<generator object flatten4 at 0x10533f970>\n"
     ]
    }
   ],
   "source": [
    "def flatten4(nested):\n",
    "    for item in nested:\n",
    "        if isinstance(item, Iterable) and not isinstance(item, (str, bytes)):\n",
    "            yield flatten4(item)\n",
    "        else:\n",
    "            yield item\n",
    "\n",
    "for i in flatten4(nested):\n",
    "    print(i)"
   ]
  },
  {
   "cell_type": "markdown",
   "metadata": {},
   "source": [
    "某个生成器地址\n",
    "\n",
    "3\n",
    "\n",
    "4\n",
    "\n",
    "某个生成器地址(与上面相同的地址)\n",
    "\n",
    "这里$flatten4(item)$是直接yield，故在生成器$flatten4(nested)$中会有某些生成器本身作为对象，在最后的循环迭代中只会遍历到这些对象而不会递归地迭代。因此对第一层不是list的那些：3，4正常生成；而第一层是list的那些：会生成迭代器地址。两个迭代器地址相同是因为python解释器优化：python可能会优化相同模式的 flatten4(item) 生成器对象，导致它们在内存中被复用。\n"
   ]
  },
  {
   "cell_type": "markdown",
   "metadata": {},
   "source": [
    "# 第一部分 代码填空"
   ]
  },
  {
   "cell_type": "markdown",
   "metadata": {},
   "source": [
    "## **1.1** 工厂模式"
   ]
  },
  {
   "cell_type": "markdown",
   "metadata": {},
   "source": [
    "补充`SimpleFactory.create_product`函数，其接受一个字符串`product_type`作为参数，表示用户要求制作的产品\n",
    "- 当`product_type`为`\"A\"`或`\"Product A\"`时，生产出一个`ProductA`对象并返回\n",
    "- 当`product_type`为`\"B\"`或`\"Product B\"`时，生产出一个`ProductB`对象并返回\n",
    "- 否则，抛出异常，表明商品无法制作"
   ]
  },
  {
   "cell_type": "code",
   "execution_count": null,
   "metadata": {
    "ExecuteTime": {
     "end_time": "2025-03-06T14:15:36.869592Z",
     "start_time": "2025-03-06T14:15:36.854104Z"
    }
   },
   "outputs": [],
   "source": [
    "class ProductA:\n",
    "    pass\n",
    "\n",
    "class ProductB:\n",
    "    pass\n",
    "\n",
    "class SimpleFactory:\n",
    "    @staticmethod\n",
    "    def create_product(product_type: str):\n",
    "        if product_type in ['A','Product A']: return ProductA() # 短路特性: 不能写：x == 'A' or 'Product A'\n",
    "        if product_type in ['B','Product B']: return ProductB()\n",
    "        raise ValueError(f\"Unknown product type: {product_type}\")\n",
    "\n",
    "factory = SimpleFactory()\n",
    "\n",
    "product_a1 = factory.create_product(\"A\")\n",
    "product_a2 = factory.create_product(\"Product A\")\n",
    "assert isinstance(product_a1, ProductA)\n",
    "assert isinstance(product_a2, ProductA)\n",
    "product_b1 = factory.create_product(\"B\")\n",
    "product_b2 = factory.create_product(\"Product B\")\n",
    "assert isinstance(product_b1, ProductB)\n",
    "assert isinstance(product_b2, ProductB)\n",
    "\n",
    "\n",
    "try: \n",
    "    product_c = factory.create_product(\"C\")\n",
    "except: \n",
    "    pass\n",
    "else:\n",
    "    assert False"
   ]
  },
  {
   "cell_type": "markdown",
   "metadata": {},
   "source": [
    "## **1.2** 观察者模式/发布-订阅模式"
   ]
  },
  {
   "cell_type": "markdown",
   "metadata": {},
   "source": [
    "简单的来说，观察者模式就是由多位观察者(Observer)观察一个对象(Subject)，被观察对象发生了某种变化时，所有观察他的对象得到通知并被自动更新\n",
    "\n",
    "如学生-教学网可以视为一组观察者-被观察对象：某课程在教学网上**发布**（公告、作业等）时，选课同学（**订阅/观察**该课程的学生）可以收到**通知**（作业截止日期、公告内容等），所以观察者模式又称为发布-订阅模式\n",
    "\n",
    "GUI-鼠标也可以视为一组观察者-被观察对象：鼠标**发布**一个行为（点击、滚轮等）时，GUI的各个组件（可以认为是**订阅/观察**了该鼠标的行为）收到**通知**（鼠标点击的位置、左键还是右键等），并自动**更新**（如某个按钮被按下后，更新界面的显示内容）\n",
    "\n",
    "<span style=\"color:red; font-weight:bold;\">思考</span>：发布-订阅模式的更多使用场景？"
   ]
  },
  {
   "cell_type": "markdown",
   "metadata": {},
   "source": [
    "本题要求实现一个简易的教学系统\n",
    "- 学生可以选课或退课\n",
    "- 教师可以在其负责的课程中发布信息\n",
    "- 教师发布信息后，选课的学生可以收到信息\n",
    "\n",
    "需要补充的内容包括\n",
    "- `Course.add_student`函数：模拟学生选课，应保证已选课学生不会重复选\n",
    "- `Course.remove_student`函数：模拟学生退课，应先检查的学生是否在选课名单里\n",
    "- `Course.notify_students`函数：给所有学生发送通知\n",
    "- `Teacher.post_message`函数：模拟教师给课程发布通知，应检查教师是否讲授该课程\n"
   ]
  },
  {
   "cell_type": "code",
   "execution_count": 11,
   "metadata": {},
   "outputs": [
    {
     "name": "stdout",
     "output_type": "stream",
     "text": [
      "小明 收到了 Python 程序设计与数据科学导论 课程的通知: Python课程第一课：数据类型\n",
      "小红 收到了 Python 程序设计与数据科学导论 课程的通知: Python课程第一课：数据类型\n",
      "小刚 收到了 Python 程序设计与数据科学导论 课程的通知: Python课程第一课：数据类型\n",
      "\n",
      "小红 收到了 数据结构与算法 课程的通知: 数据结构与算法第一课：线性表\n",
      "小刚 收到了 数据结构与算法 课程的通知: 数据结构与算法第一课：线性表\n",
      "\n",
      "\n",
      "小明 收到了 Python 程序设计与数据科学导论 课程的通知: Python课程第二课：函数\n",
      "小红 收到了 Python 程序设计与数据科学导论 课程的通知: Python课程第二课：函数\n",
      "\n"
     ]
    }
   ],
   "source": [
    "class Course:\n",
    "    def __init__(self, course_name):\n",
    "        self.course_name = course_name\n",
    "        self.students = [] \n",
    "    \n",
    "    def add_student(self, student):\n",
    "        if student not in self.students: self.students.append(student)\n",
    "        return \n",
    "        raise NotImplementedError\n",
    "    \n",
    "    def remove_student(self, student):\n",
    "        if student in self.students: self.students.remove(student)\n",
    "        return \n",
    "        raise NotImplementedError\n",
    "    \n",
    "    def notify_students(self, message):\n",
    "        for x in self.students: x.receive_message(self.course_name, message)\n",
    "        return\n",
    "        raise NotImplementedError\n",
    "\n",
    "class Student:\n",
    "    def __init__(self, name, stu_id):\n",
    "        self.name = name \n",
    "        self.stu_id = stu_id\n",
    "    \n",
    "    def receive_message(self, course_name, message):\n",
    "        print(f\"{self.name} 收到了 {course_name} 课程的通知: {message}\")\n",
    "\n",
    "class Teacher:\n",
    "    def __init__(self, name, courses):\n",
    "        self.name = name\n",
    "        self.courses = courses\n",
    "    \n",
    "    def post_message(self, course, message):\n",
    "        if course in self.courses: course.notify_students(message)\n",
    "        return \n",
    "        raise NotImplementedError\n",
    "            \n",
    "\n",
    "\n",
    "python_course = Course('Python 程序设计与数据科学导论')\n",
    "ds_course = Course('数据结构与算法')\n",
    "\n",
    "teacher_hu = Teacher('胡老师', [python_course])\n",
    "teacher_wang = Teacher('王老师', [ds_course])\n",
    "\n",
    "student1 = Student('小明', '001')\n",
    "student2 = Student('小红', '002')\n",
    "student3 = Student('小刚', '003')\n",
    "\n",
    "# 模拟学生选课退课\n",
    "python_course.add_student(student1)\n",
    "python_course.add_student(student2)\n",
    "python_course.add_student(student2)\n",
    "python_course.add_student(student3)\n",
    "ds_course.add_student(student2)  \n",
    "ds_course.add_student(student3) \n",
    "ds_course.remove_student(student1)\n",
    "assert len(python_course.students) == 3\n",
    "assert len(ds_course.students) == 2\n",
    "\n",
    "# 教师发布信息，应有三行输出\n",
    "teacher_hu.post_message(python_course, \"Python课程第一课：数据类型\")\n",
    "print()\n",
    "\n",
    "# 教师发布信息，应有两行输出\n",
    "teacher_wang.post_message(ds_course, \"数据结构与算法第一课：线性表\")\n",
    "print()\n",
    "\n",
    "# 教师发布信息，并非其负责课程，不应输出\n",
    "teacher_wang.post_message(python_course, \"Python课程第二课：函数\")\n",
    "print()\n",
    "\n",
    "# 学生退课\n",
    "python_course.remove_student(student3)\n",
    "assert len(python_course.students) == 2\n",
    "\n",
    "# 教师发布信息，应有两行输出\n",
    "teacher_hu.post_message(python_course, \"Python课程第二课：函数\")\n",
    "print()"
   ]
  },
  {
   "cell_type": "markdown",
   "metadata": {},
   "source": [
    "实现求和计算器`SumCalculator`，使得\n",
    "- 首次调用，打印问候语`\"Give me integers to add them up\"`并返回`None`\n",
    "- 之后每次通过`send`传入\n",
    "  - 整数：返回过去收到的所有整数的和\n",
    "  - `None`：停止运行\n",
    "  - 其他情况：打印`\"I only accept integers\"`，并返回现有的整数和"
   ]
  },
  {
   "cell_type": "markdown",
   "metadata": {},
   "source": [
    "## **1.3** `yield`生成器"
   ]
  },
  {
   "cell_type": "code",
   "execution_count": null,
   "metadata": {},
   "outputs": [
    {
     "name": "stdout",
     "output_type": "stream",
     "text": [
      "Give me integers to add them up\n",
      "I only accept integers\n",
      "I only accept integers\n"
     ]
    }
   ],
   "source": [
    "def SumCalculator():\n",
    "    print(\"Give me integers to add them up\")\n",
    "    total = yield\n",
    "    while True:\n",
    "        v = yield total\n",
    "        if v == None: return # 注意要直接return来触发StopIteration，不要用yield\n",
    "        if not isinstance(v, int): print(\"I only accept integers\")\n",
    "        else: total += v\n",
    "\n",
    "repeater = SumCalculator()\n",
    "assert next(repeater) is None   # 初次调用，应该打印问候语\n",
    "assert repeater.send(1) == 1\n",
    "assert repeater.send(2) == 3\n",
    "assert repeater.send(3.) == 3   # 传入非整数，应该打印错误信息\n",
    "assert repeater.send(3) == 6\n",
    "assert repeater.send('4') == 6  # 传入非整数，应该打印错误信息\n",
    "try:\n",
    "    repeater.send(None)\n",
    "except StopIteration:\n",
    "    pass\n",
    "else:\n",
    "    assert False"
   ]
  },
  {
   "cell_type": "code",
   "execution_count": null,
   "metadata": {},
   "outputs": [],
   "source": []
  }
 ],
 "metadata": {
  "kernelspec": {
   "display_name": "base",
   "language": "python",
   "name": "python3"
  },
  "language_info": {
   "codemirror_mode": {
    "name": "ipython",
    "version": 3
   },
   "file_extension": ".py",
   "mimetype": "text/x-python",
   "name": "python",
   "nbconvert_exporter": "python",
   "pygments_lexer": "ipython3",
   "version": "3.12.2"
  }
 },
 "nbformat": 4,
 "nbformat_minor": 2
}
